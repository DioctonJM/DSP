{
  "nbformat": 4,
  "nbformat_minor": 0,
  "metadata": {
    "colab": {
      "provenance": []
    },
    "kernelspec": {
      "name": "python3",
      "display_name": "Python 3"
    },
    "language_info": {
      "name": "python"
    }
  },
  "cells": [
    {
      "cell_type": "code",
      "execution_count": null,
      "metadata": {
        "colab": {
          "base_uri": "https://localhost:8080/"
        },
        "id": "rqQgYlfUUday",
        "outputId": "db0f42ef-7bc8-4180-f704-254a5b5685c7"
      },
      "outputs": [
        {
          "output_type": "stream",
          "name": "stdout",
          "text": [
            "Cloning into 'ThinkDSP'...\n",
            "remote: Enumerating objects: 2522, done.\u001b[K\n",
            "remote: Counting objects: 100% (53/53), done.\u001b[K\n",
            "remote: Compressing objects: 100% (35/35), done.\u001b[K\n",
            "remote: Total 2522 (delta 17), reused 36 (delta 12), pack-reused 2469 (from 1)\u001b[K\n",
            "Receiving objects: 100% (2522/2522), 209.66 MiB | 15.40 MiB/s, done.\n",
            "Resolving deltas: 100% (1370/1370), done.\n",
            "Updating files: 100% (309/309), done.\n"
          ]
        }
      ],
      "source": [
        "!git clone https://github.com/AllenDowney/ThinkDSP.git"
      ]
    },
    {
      "cell_type": "code",
      "source": [
        "import os\n",
        "if not os.path.exists ('thinkdsp.Py'):\n",
        "  !wget  https://github.com/AllenDowney/ThinkDSP/raw/master/code/thinkdsp.py"
      ],
      "metadata": {
        "colab": {
          "base_uri": "https://localhost:8080/"
        },
        "id": "Kl_d3upeUgs8",
        "outputId": "7b1abca1-f98b-4cbb-e921-fa470fd4208e"
      },
      "execution_count": null,
      "outputs": [
        {
          "output_type": "stream",
          "name": "stdout",
          "text": [
            "--2024-10-08 13:30:08--  https://github.com/AllenDowney/ThinkDSP/raw/master/code/thinkdsp.py\n",
            "Resolving github.com (github.com)... 140.82.114.3\n",
            "Connecting to github.com (github.com)|140.82.114.3|:443... connected.\n",
            "HTTP request sent, awaiting response... 302 Found\n",
            "Location: https://raw.githubusercontent.com/AllenDowney/ThinkDSP/master/code/thinkdsp.py [following]\n",
            "--2024-10-08 13:30:08--  https://raw.githubusercontent.com/AllenDowney/ThinkDSP/master/code/thinkdsp.py\n",
            "Resolving raw.githubusercontent.com (raw.githubusercontent.com)... 185.199.108.133, 185.199.109.133, 185.199.110.133, ...\n",
            "Connecting to raw.githubusercontent.com (raw.githubusercontent.com)|185.199.108.133|:443... connected.\n",
            "HTTP request sent, awaiting response... 200 OK\n",
            "Length: 48574 (47K) [text/plain]\n",
            "Saving to: ‘thinkdsp.py’\n",
            "\n",
            "thinkdsp.py         100%[===================>]  47.44K  --.-KB/s    in 0.01s   \n",
            "\n",
            "2024-10-08 13:30:08 (4.13 MB/s) - ‘thinkdsp.py’ saved [48574/48574]\n",
            "\n"
          ]
        }
      ]
    },
    {
      "cell_type": "markdown",
      "source": [],
      "metadata": {
        "id": "_o3LHa8ydgKx"
      }
    },
    {
      "cell_type": "code",
      "source": [
        "from thinkdsp import read_wave\n",
        "\n",
        "myVoice = read_wave('thevoiceECE.wav')\n",
        "spec = myVoice.make_spectrum()\n",
        "\n",
        "spec.plot()"
      ],
      "metadata": {
        "id": "xEpgLJY9Uq1f",
        "colab": {
          "base_uri": "https://localhost:8080/",
          "height": 430
        },
        "outputId": "4bd4dfb9-21bb-45ea-b46e-8e7339db6bd3"
      },
      "execution_count": 4,
      "outputs": [
        {
          "output_type": "display_data",
          "data": {
            "text/plain": [
              "<Figure size 640x480 with 1 Axes>"
            ],
            "image/png": "[encoded data removed]"
          },
          "metadata": {}
        }
      ]
    }
  ]
}